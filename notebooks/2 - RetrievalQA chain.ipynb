{
 "cells": [
  {
   "cell_type": "markdown",
   "id": "cc89a886-bf34-414e-9949-819b2051a1a2",
   "metadata": {},
   "source": [
    "[![Open In Colab](https://colab.research.google.com/assets/colab-badge.svg)](https://colab.research.google.com/github/telmo-correa/nebulous-llm-experiment/blob/main/notebooks/2%20-%20RetrievalQA%20chain.ipynb)"
   ]
  },
  {
   "cell_type": "markdown",
   "id": "f1f56346-c110-4268-a3bd-2e309604ff01",
   "metadata": {},
   "source": [
    "### 2. RetrievalQA chain"
   ]
  },
  {
   "cell_type": "markdown",
   "id": "6f9fb3d7-b770-41e3-b1b4-0c9438a68fc3",
   "metadata": {},
   "source": [
    "This notebook demonstrates how to load data and create a retrieval QA chain from a generated vector database with Chroma DB and langchain.\n",
    "\n",
    "#### Data sources\n",
    "\n",
    "We have generated a single dataset from 5 mostly unstructured sources about Nebulous: Fleet Command:\n",
    "\n",
    "| Source | Description | Link |\n",
    "|---|---|---|\n",
    "| nebfltcom Wiki | Pages from the fan-made wiki | [🔗](http://nebfltcom.wikidot.com/) |\n",
    "| Steam guides | Contents from some of the most popular Steam guides for Nebulous: Fleet Command focusing on gameplay | [🔗](https://steamcommunity.com/app/887570/guides/) |\n",
    "| `#new-players` | Text messages from the discord channel `#new-players`, where new players may ask questions | [🔗](https://discord.gg/UT6wU7TQ) |\n",
    "| `#shipyard` | Text messages from the discord channel `#shipyard`, where players ask for help with builds or fleet/ship-building questions | [🔗](https://discord.gg/UT6wU7TQ) |\n",
    "| in-game lore | Content from in-game lore | [🔗](https://store.steampowered.com/app/887570/NEBULOUS_Fleet_Command/) |\n",
    "\n",
    "The pre-compiled embeddings are saved on a google drive file: [data_all.tar.gz](https://drive.google.com/file/d/1-Ur30PLexcPo8mc1WPUh3Ahp6XlgptLx)"
   ]
  },
  {
   "cell_type": "code",
   "execution_count": null,
   "id": "f5441e47-25ed-4350-ab0d-3e45f9b32c9f",
   "metadata": {},
   "outputs": [],
   "source": [
    "## If running on Google Colab, install the dependencies:\n",
    "\n",
    "%pip install openai langchain"
   ]
  },
  {
   "cell_type": "markdown",
   "id": "9d4b3cfb-dde8-435a-9788-99fa7d5f5dd6",
   "metadata": {},
   "source": [
    "Import libraries:"
   ]
  },
  {
   "cell_type": "code",
   "execution_count": 1,
   "id": "f8289329-04e5-447a-88fe-aa30fbeaf45b",
   "metadata": {},
   "outputs": [],
   "source": [
    "import openai\n",
    "import os\n",
    "\n",
    "import getpass\n",
    "\n",
    "from langchain.embeddings.openai import OpenAIEmbeddings\n",
    "from langchain.vectorstores import Chroma\n",
    "from langchain.chains import RetrievalQA\n",
    "from langchain import OpenAI"
   ]
  },
  {
   "cell_type": "markdown",
   "id": "96ebb1e1-a895-46e7-b59b-782f1bde81f9",
   "metadata": {},
   "source": [
    "Setup OpenAI API key:"
   ]
  },
  {
   "cell_type": "code",
   "execution_count": 2,
   "id": "69193258-648c-4100-9a46-ec255f705e5d",
   "metadata": {},
   "outputs": [
    {
     "name": "stdout",
     "output_type": "stream",
     "text": [
      "Please enter your OpenAI API key:\n"
     ]
    },
    {
     "name": "stdin",
     "output_type": "stream",
     "text": [
      " ········\n"
     ]
    }
   ],
   "source": [
    "if \"OPENAI_API_KEY\" not in os.environ:\n",
    "    print(\"Please enter your OpenAI API key:\")\n",
    "    openai_api_key = getpass.getpass()\n",
    "\n",
    "    os.environ[\"OPENAI_API_KEY\"] = openai_api_key\n",
    "    openai.api_key = openai_api_key"
   ]
  },
  {
   "cell_type": "markdown",
   "id": "2c9e9b51-6e31-4ecc-90e7-c5cc091f4a3c",
   "metadata": {},
   "source": [
    "Load generated embeddings with all data:"
   ]
  },
  {
   "cell_type": "code",
   "execution_count": 3,
   "id": "b1e5de3c-8942-429f-8496-f76fbb2988b5",
   "metadata": {},
   "outputs": [
    {
     "name": "stdout",
     "output_type": "stream",
     "text": [
     ]
    }
   ],
   "source": [
    "!wget -O /tmp/data_all.tar.gz \"<dataset location here>\""
   ]
  },
  {
   "cell_type": "markdown",
   "id": "bc53bd45-563c-47fd-abc6-331b9489c06f",
   "metadata": {},
   "source": [
    "Uncompress it:"
   ]
  },
  {
   "cell_type": "code",
   "execution_count": 4,
   "id": "bb31128b-c148-4caa-8b1e-5f29588f9679",
   "metadata": {},
   "outputs": [
    {
     "name": "stdout",
     "output_type": "stream",
     "text": [
      "data_all/\n",
      "data_all/all_data/\n",
      "data_all/all_data/chroma-embeddings.parquet.tmp\n",
      "data_all/all_data/chroma-embeddings.parquet\n",
      "data_all/all_data/chroma-collections.parquet\n",
      "data_all/all_data/index/\n",
      "data_all/all_data/index/index_d6e2a0af-e8c9-491c-b2d1-26a4451fa9af.bin\n",
      "data_all/all_data/index/uuid_to_id_d6e2a0af-e8c9-491c-b2d1-26a4451fa9af.pkl\n",
      "data_all/all_data/index/id_to_uuid_d6e2a0af-e8c9-491c-b2d1-26a4451fa9af.pkl\n",
      "data_all/all_data/index/index_metadata_d6e2a0af-e8c9-491c-b2d1-26a4451fa9af.pkl\n"
     ]
    }
   ],
   "source": [
    "!tar -xvzf /tmp/data_all.tar.gz"
   ]
  },
  {
   "cell_type": "markdown",
   "id": "cb897eb6-a02b-480b-85f1-b413f408f7fc",
   "metadata": {},
   "source": [
    "Remove downloaded compressed file:"
   ]
  },
  {
   "cell_type": "code",
   "execution_count": 5,
   "id": "341a78fd-0467-462a-b572-837d8efddfbd",
   "metadata": {},
   "outputs": [],
   "source": [
    "!rm -rf /tmp/data_all.tar.gz"
   ]
  },
  {
   "cell_type": "code",
   "execution_count": 6,
   "id": "2a44a4e8-3ee0-4cca-bab8-ac16c5acde86",
   "metadata": {},
   "outputs": [],
   "source": [
    "PERSIST_DIRECTORY = \"data_all/all_data/\""
   ]
  },
  {
   "cell_type": "code",
   "execution_count": 7,
   "id": "c36fc275-2664-4cb1-a0ab-7567aab5a061",
   "metadata": {},
   "outputs": [],
   "source": [
    "embedding = OpenAIEmbeddings()"
   ]
  },
  {
   "cell_type": "markdown",
   "id": "89cd6c16-47ee-4a62-b8aa-269aca23025e",
   "metadata": {},
   "source": [
    "Load ChromaDB from persisted data:"
   ]
  },
  {
   "cell_type": "code",
   "execution_count": 8,
   "id": "cda368eb-730d-486a-838f-ba09966a781b",
   "metadata": {},
   "outputs": [
    {
     "data": {
      "application/vnd.jupyter.widget-view+json": {
       "model_id": "f5b1c0daac66437286035e49a10366d9",
       "version_major": 2,
       "version_minor": 0
      },
      "text/plain": [
       "FloatProgress(value=0.0, layout=Layout(width='auto'), style=ProgressStyle(bar_color='black'))"
      ]
     },
     "metadata": {},
     "output_type": "display_data"
    }
   ],
   "source": [
    "embedding = OpenAIEmbeddings()\n",
    "docsearch = Chroma(persist_directory=PERSIST_DIRECTORY, embedding_function=embedding)"
   ]
  },
  {
   "cell_type": "markdown",
   "id": "c7e38d52-6fa0-4a39-b8b7-abf864f65e6d",
   "metadata": {},
   "source": [
    "Create retrieval QA chain:"
   ]
  },
  {
   "cell_type": "code",
   "execution_count": 9,
   "id": "45fbbe89-9266-42d8-8e95-fddc8e42438b",
   "metadata": {},
   "outputs": [],
   "source": [
    "## Optionally, use W&B to track responses\n",
    "\n",
    "from langchain.callbacks.tracers import WandbTracer\n",
    "\n",
    "# wandb_config = {\"project\": \"llm_agent_test\"}\n",
    "# tracer = WandbTracer(wandb_config)"
   ]
  },
  {
   "cell_type": "code",
   "execution_count": 10,
   "id": "007e57c6-483b-4c8d-88f5-73168915dd71",
   "metadata": {},
   "outputs": [],
   "source": [
    "llm = OpenAI(temperature=0)\n",
    "chain = RetrievalQA.from_chain_type(\n",
    "    llm,\n",
    "    chain_type=\"stuff\", \n",
    "    retriever=docsearch.as_retriever(search_type=\"similarity\", search_kwargs={\"k\":10}),\n",
    "    # callbacks=[tracer]\n",
    ")"
   ]
  },
  {
   "cell_type": "markdown",
   "id": "50490396-57cf-4ec2-860a-e858813744e9",
   "metadata": {},
   "source": [
    "#### Query the chain"
   ]
  },
  {
   "cell_type": "code",
   "execution_count": 11,
   "id": "b634ddf7-c0f6-4448-b80d-1219b24642a9",
   "metadata": {},
   "outputs": [
    {
     "data": {
      "text/plain": [
       "{'query': 'What are the strategies for playing ANS?',\n",
       " 'result': ' When playing ANS, you should make use of their advantages such as superior electronic warfare, hybrid missile weapons, and particle beams. You should also use strategies such as utilizing the \"Cruise\" upgrade on missiles to waypoint them around rocks and out of LOS, and using size 2 hybrids to reach out and hit small, lone, defended targets at long range. Additionally, you should use floodlights to stay safe and AMMs to thin out hybrid strikes.'}"
      ]
     },
     "execution_count": 11,
     "metadata": {},
     "output_type": "execute_result"
    }
   ],
   "source": [
    "chain({\"query\": \"What are the strategies for playing ANS?\"}, return_only_outputs=False)"
   ]
  },
  {
   "cell_type": "code",
   "execution_count": 12,
   "id": "4cfbfa2f-c474-4d26-99a4-417f02583a1a",
   "metadata": {},
   "outputs": [],
   "source": [
    "## If using W & B, make sure tracer is saved\n",
    "\n",
    "# tracer.finish()"
   ]
  }
 ],
 "metadata": {
  "kernelspec": {
   "display_name": "Python 3",
   "language": "python",
   "name": "python3"
  },
  "language_info": {
   "codemirror_mode": {
    "name": "ipython",
    "version": 3
   },
   "file_extension": ".py",
   "mimetype": "text/x-python",
   "name": "python",
   "nbconvert_exporter": "python",
   "pygments_lexer": "ipython3",
   "version": "3.8.16"
  }
 },
 "nbformat": 4,
 "nbformat_minor": 5
}
