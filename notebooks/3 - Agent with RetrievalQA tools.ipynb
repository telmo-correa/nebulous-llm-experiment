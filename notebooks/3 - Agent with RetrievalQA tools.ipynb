{
 "cells": [
  {
   "cell_type": "markdown",
   "id": "8a74dc2c-75c1-45a0-836d-884afe677787",
   "metadata": {},
   "source": [
    "[![Open In Colab](https://colab.research.google.com/assets/colab-badge.svg)](https://colab.research.google.com/github/telmo-correa/nebulous-llm-experiment/blob/main/notebooks/3%20-%20Agent%20with%20RetrievalQA%20tools.ipynb)"
   ]
  },
  {
   "cell_type": "markdown",
   "id": "72a2506b-0389-439b-bde8-1a2445106b27",
   "metadata": {},
   "source": [
    "### 3. Agent with RetrievalQA tools"
   ]
  },
  {
   "cell_type": "markdown",
   "id": "1019d9c0-3821-48f6-ad99-2e06e8b311ca",
   "metadata": {},
   "source": [
    "This notebook demonstrates how to create an agent that uses a RetrievalQA chain for each dataset as a tool.\n",
    "\n",
    "#### Data sources\n",
    "\n",
    "Unlike in the previous notebook, we have generated separated embeddings for 5 each of the same data sources about Nebulous: Fleet Command:\n",
    "\n",
    "| Source | Description | Link |\n",
    "|---|---|---|\n",
    "| nebfltcom Wiki | Pages from the fan-made wiki | [🔗](http://nebfltcom.wikidot.com/) |\n",
    "| Steam guides | Contents from some of the most popular Steam guides for Nebulous: Fleet Command focusing on gameplay | [🔗](https://steamcommunity.com/app/887570/guides/) |\n",
    "| `#new-players` | Text messages from the discord channel `#new-players`, where new players may ask questions | [🔗](https://discord.gg/UT6wU7TQ) |\n",
    "| `#shipyard` | Text messages from the discord channel `#shipyard`, where players ask for help with builds or fleet/ship-building questions | [🔗](https://discord.gg/UT6wU7TQ) |\n",
    "| in-game lore | Content from in-game lore | [🔗](https://store.steampowered.com/app/887570/NEBULOUS_Fleet_Command/) |\n",
    "\n",
    "The five embeddings are provided in a single compressed google drive file: [data_by_source.tar.gz](https://drive.google.com/file/d/1-yDL18Ns0GZZBH8jGKbdMEZHPMwzZqDb)\n",
    "\n",
    "#### Tools\n",
    "\n",
    "Rather than having a single chain query a joint data source, we will create 5 different retrieval QA chains, and wrap them into language models that can be used as tools by a main chat agent in order to investigate and answer a user query."
   ]
  },
  {
   "cell_type": "code",
   "execution_count": null,
   "id": "a7f405dd-89d6-4bd4-921d-cf9dc68c6f3a",
   "metadata": {},
   "outputs": [],
   "source": [
    "## If running on Google Colab, install the dependencies:\n",
    "\n",
    "%pip install openai langchain"
   ]
  },
  {
   "cell_type": "code",
   "execution_count": 1,
   "id": "fd616f0d-09f6-4a1f-9cb3-f890af623acd",
   "metadata": {},
   "outputs": [],
   "source": [
    "import openai\n",
    "import os\n",
    "\n",
    "import getpass\n",
    "\n",
    "from langchain.agents import AgentType, initialize_agent\n",
    "from langchain.embeddings.openai import OpenAIEmbeddings\n",
    "from langchain.chat_models import ChatOpenAI\n",
    "from langchain import OpenAI\n",
    "from langchain.chains import RetrievalQA\n",
    "from langchain.prompts import PromptTemplate\n",
    "from langchain.prompts.chat import (\n",
    "    ChatPromptTemplate,\n",
    "    SystemMessagePromptTemplate,\n",
    "    HumanMessagePromptTemplate,\n",
    ")\n",
    "from langchain.vectorstores import Chroma\n",
    "from langchain.tools import Tool"
   ]
  },
  {
   "cell_type": "markdown",
   "id": "4b96b3f2-7659-47a4-8434-82e9e55da6a1",
   "metadata": {},
   "source": [
    "Setup OpenAI API key:"
   ]
  },
  {
   "cell_type": "code",
   "execution_count": 2,
   "id": "d8cb18c7-da4c-441c-8f84-faf40e5b69c0",
   "metadata": {},
   "outputs": [
    {
     "name": "stdout",
     "output_type": "stream",
     "text": [
      "Please enter your OpenAI API key:\n"
     ]
    },
    {
     "name": "stdin",
     "output_type": "stream",
     "text": [
      " ········\n"
     ]
    }
   ],
   "source": [
    "if \"OPENAI_API_KEY\" not in os.environ:\n",
    "    print(\"Please enter your OpenAI API key:\")\n",
    "    openai_api_key = getpass.getpass()\n",
    "\n",
    "    os.environ[\"OPENAI_API_KEY\"] = openai_api_key\n",
    "    openai.api_key = openai_api_key"
   ]
  },
  {
   "cell_type": "markdown",
   "id": "d54cc28e-163b-4a10-9aae-8502f6dd6d23",
   "metadata": {},
   "source": [
    "Load generated embeddings for each data source:"
   ]
  },
  {
   "cell_type": "code",
   "execution_count": 3,
   "id": "d2b172b8-5e02-48ed-b871-54da97849859",
   "metadata": {},
   "outputs": [
    {
     "name": "stdout",
     "output_type": "stream",
     "text": [
     ]
    }
   ],
   "source": [
    "!wget -O /tmp/data_by_source.tar.gz \"<dataset location here>\""
   ]
  },
  {
   "cell_type": "markdown",
   "id": "4f3cba89-2452-4706-8970-b5ae84c705a1",
   "metadata": {},
   "source": [
    "Uncompress it:"
   ]
  },
  {
   "cell_type": "code",
   "execution_count": 4,
   "id": "4e0c17b4-2d30-4c33-ae53-ca55f24820ff",
   "metadata": {},
   "outputs": [
    {
     "name": "stdout",
     "output_type": "stream",
     "text": [
      "data_by_source/\n",
      "data_by_source/discord_shipyard/\n",
      "data_by_source/discord_shipyard/chroma-embeddings.parquet.tmp\n",
      "data_by_source/discord_shipyard/chroma-embeddings.parquet\n",
      "data_by_source/discord_shipyard/chroma-collections.parquet\n",
      "data_by_source/discord_shipyard/index/\n",
      "data_by_source/discord_shipyard/index/uuid_to_id_fe23f4cc-c020-45ae-abe3-7303804586ba.pkl\n",
      "data_by_source/discord_shipyard/index/id_to_uuid_fe23f4cc-c020-45ae-abe3-7303804586ba.pkl\n",
      "data_by_source/discord_shipyard/index/index_metadata_fe23f4cc-c020-45ae-abe3-7303804586ba.pkl\n",
      "data_by_source/discord_shipyard/index/index_fe23f4cc-c020-45ae-abe3-7303804586ba.bin\n",
      "data_by_source/lore/\n",
      "data_by_source/lore/chroma-embeddings.parquet\n",
      "data_by_source/lore/chroma-collections.parquet\n",
      "data_by_source/lore/index/\n",
      "data_by_source/lore/index/id_to_uuid_96f26b95-80c9-42fd-b0df-92c3666185fa.pkl\n",
      "data_by_source/lore/index/index_metadata_96f26b95-80c9-42fd-b0df-92c3666185fa.pkl\n",
      "data_by_source/lore/index/index_96f26b95-80c9-42fd-b0df-92c3666185fa.bin\n",
      "data_by_source/lore/index/uuid_to_id_96f26b95-80c9-42fd-b0df-92c3666185fa.pkl\n",
      "data_by_source/wiki/\n",
      "data_by_source/discord_newplayers/\n",
      "data_by_source/discord_newplayers/chroma-embeddings.parquet.tmp\n",
      "data_by_source/discord_newplayers/chroma-embeddings.parquet\n",
      "data_by_source/discord_newplayers/chroma-collections.parquet\n",
      "data_by_source/discord_newplayers/index/\n",
      "data_by_source/discord_newplayers/index/id_to_uuid_72005ccf-3744-4f66-9afe-dd21351c7ec9.pkl\n",
      "data_by_source/discord_newplayers/index/index_metadata_72005ccf-3744-4f66-9afe-dd21351c7ec9.pkl\n",
      "data_by_source/discord_newplayers/index/uuid_to_id_72005ccf-3744-4f66-9afe-dd21351c7ec9.pkl\n",
      "data_by_source/discord_newplayers/index/index_72005ccf-3744-4f66-9afe-dd21351c7ec9.bin\n",
      "data_by_source/steam/\n",
      "data_by_source/steam/chroma-embeddings.parquet\n",
      "data_by_source/steam/chroma-collections.parquet\n",
      "data_by_source/steam/index/\n",
      "data_by_source/steam/index/id_to_uuid_cf70c7d6-f51a-49c4-b9ce-e86303747f5e.pkl\n",
      "data_by_source/steam/index/index_cf70c7d6-f51a-49c4-b9ce-e86303747f5e.bin\n",
      "data_by_source/steam/index/index_metadata_cf70c7d6-f51a-49c4-b9ce-e86303747f5e.pkl\n",
      "data_by_source/steam/index/uuid_to_id_cf70c7d6-f51a-49c4-b9ce-e86303747f5e.pkl\n"
     ]
    }
   ],
   "source": [
    "!tar -xvzf /tmp/data_by_source.tar.gz"
   ]
  },
  {
   "cell_type": "markdown",
   "id": "10591dbf-ee8c-44c0-bb77-859400b89727",
   "metadata": {},
   "source": [
    "Remove downloaded compressed file:"
   ]
  },
  {
   "cell_type": "code",
   "execution_count": 5,
   "id": "09cc39ab-9b3f-4ef7-bb8e-f9b28a73ab53",
   "metadata": {},
   "outputs": [],
   "source": [
    "!rm -rf /tmp/data_by_source.tar.gz"
   ]
  },
  {
   "cell_type": "markdown",
   "id": "507e956e-53f1-467b-a511-8781be81ca60",
   "metadata": {},
   "source": [
    "Setup embedding locations:"
   ]
  },
  {
   "cell_type": "code",
   "execution_count": 6,
   "id": "35ea76b3-5fad-401a-ac7e-1a67b54f9780",
   "metadata": {},
   "outputs": [],
   "source": [
    "PERSIST_WIKI = \"data_by_source/wiki/\"\n",
    "PERSIST_STEAM = \"data_by_source/steam/\"\n",
    "PERSIST_DISCORD_NEWPLAYERS = \"data_by_source/discord_newplayers/\"\n",
    "PERSIST_DISCORD_SHIPYARD = \"data_by_source/discord_shipyard/\"\n",
    "PERSIST_LORE = \"data_by_source/lore/\""
   ]
  },
  {
   "cell_type": "markdown",
   "id": "ddb6831e-d830-4dee-8c03-95e279cea12b",
   "metadata": {},
   "source": [
    "Setup custom prompt for agents:"
   ]
  },
  {
   "cell_type": "code",
   "execution_count": 7,
   "id": "e9495bac-f977-4422-be6d-2c9ca9582753",
   "metadata": {},
   "outputs": [],
   "source": [
    "prompt_template = \"\"\"\n",
    "Answer the question based on the context below. Keep the answer short and concise. Respond \"Unsure about answer\" if not sure about the answer.\n",
    "\n",
    "Context: {context}\n",
    "\n",
    "Question: {question}\n",
    "Answer:\"\"\"\n",
    "\n",
    "PROMPT = PromptTemplate(\n",
    "    template=prompt_template, input_variables=[\"context\", \"question\"]\n",
    ")\n",
    "chain_type_kwargs = {\"prompt\": PROMPT}"
   ]
  },
  {
   "cell_type": "markdown",
   "id": "c2126a22-08c3-46ba-b467-16d5efd41fa5",
   "metadata": {},
   "source": [
    "Create tools for each data source:"
   ]
  },
  {
   "cell_type": "code",
   "execution_count": 8,
   "id": "0ebd01cb-44e2-495b-9e3d-699bd13a4fb8",
   "metadata": {},
   "outputs": [],
   "source": [
    "tool_information = [\n",
    "    {\n",
    "        \"name\": \"Nebulous wiki\",\n",
    "        \"tool_description\": \"\"\"\\\n",
    "This is a large language model with access to contents of a fan-made wiki for Nebulous: Fleet Command.  Input should be a full sentence.\n",
    "\"\"\",\n",
    "        \"persist_directory\": PERSIST_WIKI\n",
    "    },\n",
    "    {\n",
    "        \"name\": \"Nebulous Steam guides\",\n",
    "        \"tool_description\": \"\"\"\\\n",
    "This is a large language model with access to information from Steam guides for Nebulous: Fleet Command.  Input should be a full sentence.\n",
    "\"\"\",\n",
    "        \"persist_directory\": PERSIST_STEAM\n",
    "    },\n",
    "    {\n",
    "        \"name\": \"Nebulous discord #new-players channel\",\n",
    "        \"tool_description\": \"\"\"\\\n",
    "This is a large language model with access to information from a discord channel\\\n",
    "in the official server for Nebulous: Fleet Command.  The channel description reads:\\\n",
    "`Questions, answers, and help for new players!`\\\n",
    "Input should be a full sentence.\n",
    "\"\"\",\n",
    "        \"persist_directory\": PERSIST_DISCORD_NEWPLAYERS\n",
    "    },\n",
    "    {\n",
    "        \"name\": \"Nebulous discord #shipyard channel\",\n",
    "        \"tool_description\": \"\"\"\\\n",
    "This is a large language model with access to information from a discord channel\\\n",
    "in the official server for Nebulous: Fleet Command.  The channel description reads:\\\n",
    "`A place to help or ask for help with builds, ask or answer fleet/ship-building questions.`\\\n",
    "Input should be a full sentence.\n",
    "\"\"\",\n",
    "        \"persist_directory\": PERSIST_DISCORD_SHIPYARD\n",
    "    },\n",
    "    {\n",
    "        \"name\": \"Nebulous in-game lore\",\n",
    "        \"tool_description\": \"\"\"\\\n",
    "This is a large language model with access to in-game lore for Nebulous: Fleet Command.  Input should be a full sentence.\n",
    "\"\"\",\n",
    "        \"persist_directory\": PERSIST_LORE\n",
    "    },\n",
    "]"
   ]
  },
  {
   "cell_type": "code",
   "execution_count": 9,
   "id": "7f2af757-b8cb-4d99-a7be-6a5490c686be",
   "metadata": {},
   "outputs": [],
   "source": [
    "embedding = OpenAIEmbeddings()\n",
    "llm = OpenAI(temperature=0)\n",
    "\n",
    "for d in tool_information:\n",
    "    d[\"docsearch\"] = Chroma(persist_directory=d[\"persist_directory\"], embedding_function=embedding)\n",
    "    d[\"chain\"] = RetrievalQA.from_chain_type(\n",
    "        llm,\n",
    "        chain_type=\"stuff\", \n",
    "        retriever=d[\"docsearch\"].as_retriever(search_type=\"similarity\", search_kwargs={\"k\": 10}),\n",
    "        chain_type_kwargs=chain_type_kwargs\n",
    "    )\n",
    "    d[\"tool\"] = Tool(\n",
    "        name=d[\"name\"],\n",
    "        func=d[\"chain\"].run,\n",
    "        description=d[\"tool_description\"]\n",
    "    )"
   ]
  },
  {
   "cell_type": "code",
   "execution_count": 10,
   "id": "7d53bad3-885e-4161-86d2-a55fbba661a8",
   "metadata": {},
   "outputs": [],
   "source": [
    "tools = [d[\"tool\"] for d in tool_information]"
   ]
  },
  {
   "cell_type": "code",
   "execution_count": 11,
   "id": "b5a6d6a8-44c5-447d-ab67-4126bca20e26",
   "metadata": {},
   "outputs": [],
   "source": [
    "chat = ChatOpenAI(temperature=0)\n",
    "\n",
    "template=\"\"\"\n",
    "You are a helpful AI assistant that can answer questions about Nebulous: Fleet Command.\n",
    "If the question is not about Nebulous: Fleet Command, do not answer it.\n",
    "\n",
    "Use the information provided by your tools as context to write your answer.\n",
    "\"\"\"\n",
    "\n",
    "system_message_prompt = SystemMessagePromptTemplate.from_template(template)\n",
    "human_template=\"{text}\"\n",
    "human_message_prompt = HumanMessagePromptTemplate.from_template(human_template)\n",
    "chat_prompt = ChatPromptTemplate.from_messages([system_message_prompt, human_message_prompt])"
   ]
  },
  {
   "cell_type": "code",
   "execution_count": 12,
   "id": "ba5d6a03-37bb-4d1f-89a4-97c09ed19dca",
   "metadata": {},
   "outputs": [],
   "source": [
    "## Optionally, use W&B to track responses\n",
    "\n",
    "from langchain.callbacks.tracers import WandbTracer\n",
    "\n",
    "wandb_config = {\"project\": \"llm_agent_test\"}\n",
    "# tracer = WandbTracer(wandb_config)"
   ]
  },
  {
   "cell_type": "code",
   "execution_count": 13,
   "id": "4da17857-e9e2-4b5f-b422-adf725283499",
   "metadata": {},
   "outputs": [],
   "source": [
    "llm = ChatOpenAI(temperature=0)\n",
    "\n",
    "agent = initialize_agent(\n",
    "    tools, \n",
    "    llm, \n",
    "    prompt=chat_prompt,\n",
    "    agent=AgentType.ZERO_SHOT_REACT_DESCRIPTION, \n",
    "    verbose=True, \n",
    "    handle_parsing_errors=True,\n",
    "    # callbacks=[tracer]\n",
    ")"
   ]
  },
  {
   "cell_type": "code",
   "execution_count": 16,
   "id": "db544aa2-3a3b-4d12-9de2-bb2a83966a45",
   "metadata": {},
   "outputs": [
    {
     "name": "stdout",
     "output_type": "stream",
     "text": [
      "\n",
      "\n",
      "\u001b[1m> Entering new  chain...\u001b[0m\n",
      "\u001b[32;1m\u001b[1;3mI should consult resources to learn about ANS strategies.\n",
      "Action: Nebulous Steam guides\n",
      "Action Input: \"ANS strategies\"\u001b[0m\n",
      "Observation: \u001b[33;1m\u001b[1;3m ANS strategies include using 120mm or 250mm HE-RPF at a loaded missile carrier, asymmetrical HCs/BBs, jamming incoming missiles, and using AMMs with a blast-fragmentation warhead. OSP strategies include using an Ocello carrying Alliance equipment, using R550 and R400 super-radars, and using comms jammers.\u001b[0m\n",
      "Thought:\u001b[32;1m\u001b[1;3mThat's a lot of information to digest. I wonder if there are any more specific tips for ANS gameplay.\n",
      "Action: Nebulous discord #new-players channel\n",
      "Action Input: \"Any tips for playing ANS?\"\u001b[0m\n",
      "Observation: \u001b[38;5;200m\u001b[1;3m When playing ANS, make use of their advantages such as electronic warfare, hybrid missile weapons, and particle beams. Utilize their missile advantage by using the \"Cruise\" upgrade on missiles to waypoint them around rocks and out of LOS. Use floodlights to stay safe from jamming. Try to avoid fights that emphasize your opponent's advantages.\u001b[0m\n",
      "Thought:\u001b[32;1m\u001b[1;3mThat was helpful, but I still want to learn more about ANS lore.\n",
      "Action: Nebulous in-game lore\n",
      "Action Input: \"ANS lore\"\u001b[0m\n",
      "Observation: \u001b[33;1m\u001b[1;3m ANS stands for Alliance Naval Ship and is the designation for Alliance warships.\u001b[0m\n",
      "Thought:\u001b[32;1m\u001b[1;3mI now know the final answer.\n",
      "Final Answer: ANS strategies include using hybrid missile weapons, particle beams, and electronic warfare to take advantage of their strengths. ANS lore stands for Alliance Naval Ship and is the designation for Alliance warships.\u001b[0m\n",
      "\n",
      "\u001b[1m> Finished chain.\u001b[0m\n"
     ]
    },
    {
     "data": {
      "text/plain": [
       "'ANS strategies include using hybrid missile weapons, particle beams, and electronic warfare to take advantage of their strengths. ANS lore stands for Alliance Naval Ship and is the designation for Alliance warships.'"
      ]
     },
     "execution_count": 16,
     "metadata": {},
     "output_type": "execute_result"
    }
   ],
   "source": [
    "agent.run(\"What are the strategies for playing ANS?\")"
   ]
  },
  {
   "cell_type": "code",
   "execution_count": 15,
   "id": "0ea2e495-ca0a-446b-8fea-6be119bdb4ab",
   "metadata": {},
   "outputs": [],
   "source": [
    "## If using W & B, make sure tracer is saved\n",
    "\n",
    "# tracer.finish()"
   ]
  }
 ],
 "metadata": {
  "kernelspec": {
   "display_name": "Python 3",
   "language": "python",
   "name": "python3"
  },
  "language_info": {
   "codemirror_mode": {
    "name": "ipython",
    "version": 3
   },
   "file_extension": ".py",
   "mimetype": "text/x-python",
   "name": "python",
   "nbconvert_exporter": "python",
   "pygments_lexer": "ipython3",
   "version": "3.8.16"
  }
 },
 "nbformat": 4,
 "nbformat_minor": 5
}
